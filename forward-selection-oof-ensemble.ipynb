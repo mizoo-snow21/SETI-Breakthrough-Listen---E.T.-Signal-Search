{
 "cells": [
  {
   "cell_type": "markdown",
   "metadata": {
    "papermill": {
     "duration": 0.008306,
     "end_time": "2020-08-18T18:42:49.777058",
     "exception": false,
     "start_time": "2020-08-18T18:42:49.768752",
     "status": "completed"
    },
    "tags": []
   },
   "source": [
    "# How To Ensemble OOF\n",
    "In this notebook, we learn how to use `forward selection` to ensemble OOF. First build lots of models using the same KFolds (i.e. use same `seed`). Next save all the oof files as `oof_XX.csv` and submission files as `sub_XX.csv` where the oof and submission share the same `XX` number. Then save them in a Kaggle dataset and run the code below.\n",
    "\n",
    "The ensemble begins with the model of highest oof AUC. Next each other model is added one by one to see which additional model increases ensemble AUC the most. The best additional model is kept and the process is repeated until the ensemble AUC doesn't increase."
   ]
  },
  {
   "cell_type": "markdown",
   "metadata": {
    "papermill": {
     "duration": 0.005795,
     "end_time": "2020-08-18T18:42:49.790060",
     "exception": false,
     "start_time": "2020-08-18T18:42:49.784265",
     "status": "completed"
    },
    "tags": []
   },
   "source": [
    "# Read OOF Files\n",
    "When i get more time, I will compete this table to describe all 39 models in this notebook. For now here are the ones that get selected:\n",
    "\n",
    "| k | CV | LB | read size | crop size | effNet | ext data | upsample | misc | name |\n",
    "| --- | --- | --- | --- | --- | --- | --- | --- | --- | --- |\n",
    "| 1 | 0.910 | 0.950 | 384 | 384 | B6 | 2018 | no |  | oof_100 |\n",
    "| 3 | 0.916 | 0.946 | 384 | 384 | B345 | no | no |  | oof_108 |\n",
    "| 8 | 0.935 | 0.949 | 768 | 512 | B7 | 2018 | 1,1,1,1 |  | oof_113 |\n",
    "| 10 | 0.920 | 0.941 | 512 | 384 | B5 | 2019 2018 | 10,0,0,0 |  | oof_117 |\n",
    "| 12 | 0.935 | 0.937 | 768 | 512 | B6 | 2019 2018 | 3,3,0,0 |  | oof_120 |\n",
    "| 21 | 0.933 | 0.950 | 1024 | 512 | B6 | 2018 | 2,2,2,2 |  | oof_30 |\n",
    "| 26 | 0.927 | 0.942 | 768 | 384 | B4 | 2018 | no |  | oof_385 |\n",
    "| 37 | 0.936 | 0.956 | 512 | 384 | B5 | 2018 | 1,1,1,1 |  | oof_67 |\n"
   ]
  },
  {
   "cell_type": "code",
   "execution_count": 28,
   "metadata": {
    "_cell_guid": "b1076dfc-b9ad-4769-8c92-a6c4dae69d19",
    "_uuid": "8f2839f25d086af736a60e9eeb907d3b93b6e0e5",
    "execution": {
     "iopub.execute_input": "2020-08-18T18:42:49.809251Z",
     "iopub.status.busy": "2020-08-18T18:42:49.808479Z",
     "iopub.status.idle": "2020-08-18T18:42:51.021303Z",
     "shell.execute_reply": "2020-08-18T18:42:51.020404Z"
    },
    "papermill": {
     "duration": 1.225243,
     "end_time": "2020-08-18T18:42:51.021496",
     "exception": false,
     "start_time": "2020-08-18T18:42:49.796253",
     "status": "completed"
    },
    "tags": []
   },
   "outputs": [],
   "source": [
    "import pandas as pd, numpy as np, os\n",
    "from sklearn.metrics import roc_auc_score\n",
    "import matplotlib.pyplot as plt"
   ]
  },
  {
   "cell_type": "code",
   "execution_count": 29,
   "metadata": {
    "execution": {
     "iopub.execute_input": "2020-08-18T18:42:51.044872Z",
     "iopub.status.busy": "2020-08-18T18:42:51.043978Z",
     "iopub.status.idle": "2020-08-18T18:42:52.807034Z",
     "shell.execute_reply": "2020-08-18T18:42:52.806033Z"
    },
    "papermill": {
     "duration": 1.777005,
     "end_time": "2020-08-18T18:42:52.807224",
     "exception": false,
     "start_time": "2020-08-18T18:42:51.030219",
     "status": "completed"
    },
    "tags": []
   },
   "outputs": [
    {
     "name": "stdout",
     "output_type": "stream",
     "text": [
      "We have 8 oof files...\n",
      "\n",
      "['eca_nfnetl0_oof_01.csv' 'eff_b0_ns_oof_06.csv' 'eff_b0_oof_05.csv'\n",
      " 'eff_b3_ns_oof_07.csv' 'eff_b3_ns_w15_oof_02.csv' 'eff_v2_s_oof_03.csv'\n",
      " 'ensemble_oof.csv' 'oof_df.csv']\n"
     ]
    }
   ],
   "source": [
    "PATH = 'sub/'\n",
    "FILES = os.listdir(PATH)\n",
    "\n",
    "OOF = np.sort( [f for f in FILES if 'oof' in f] )\n",
    "OOF_CSV = [pd.read_csv(PATH+k) for k in OOF]\n",
    "\n",
    "print('We have %i oof files...'%len(OOF))\n",
    "print(); print(OOF)"
   ]
  },
  {
   "cell_type": "code",
   "execution_count": 30,
   "metadata": {
    "execution": {
     "iopub.execute_input": "2020-08-18T18:42:52.833096Z",
     "iopub.status.busy": "2020-08-18T18:42:52.832236Z",
     "iopub.status.idle": "2020-08-18T18:42:52.870339Z",
     "shell.execute_reply": "2020-08-18T18:42:52.869542Z"
    },
    "papermill": {
     "duration": 0.056189,
     "end_time": "2020-08-18T18:42:52.870478",
     "exception": false,
     "start_time": "2020-08-18T18:42:52.814289",
     "status": "completed"
    },
    "tags": []
   },
   "outputs": [],
   "source": [
    "x = np.zeros(( len(OOF_CSV[0]),len(OOF) ))\n",
    "for k in range(len(OOF)):\n",
    "    x[:,k] = OOF_CSV[k].preds.values\n",
    "    \n",
    "TRUE = OOF_CSV[0].target.values"
   ]
  },
  {
   "cell_type": "code",
   "execution_count": 31,
   "metadata": {
    "execution": {
     "iopub.execute_input": "2020-08-18T18:42:52.892075Z",
     "iopub.status.busy": "2020-08-18T18:42:52.891241Z",
     "iopub.status.idle": "2020-08-18T18:42:53.408803Z",
     "shell.execute_reply": "2020-08-18T18:42:53.409470Z"
    },
    "papermill": {
     "duration": 0.532698,
     "end_time": "2020-08-18T18:42:53.409697",
     "exception": false,
     "start_time": "2020-08-18T18:42:52.876999",
     "status": "completed"
    },
    "tags": []
   },
   "outputs": [
    {
     "name": "stdout",
     "output_type": "stream",
     "text": [
      "Model 0 has OOF AUC = 0.8745\n",
      "Model 1 has OOF AUC = 0.8745\n",
      "Model 2 has OOF AUC = 0.8715\n",
      "Model 3 has OOF AUC = 0.8774\n",
      "Model 4 has OOF AUC = 0.8772\n",
      "Model 5 has OOF AUC = 0.8670\n",
      "Model 6 has OOF AUC = 0.8745\n",
      "Model 7 has OOF AUC = 0.8734\n"
     ]
    }
   ],
   "source": [
    "all = []\n",
    "for k in range(x.shape[1]):\n",
    "    auc = roc_auc_score(OOF_CSV[0].target,x[:,k])\n",
    "    all.append(auc)\n",
    "    print('Model %i has OOF AUC = %.4f'%(k,auc))\n",
    "    \n",
    "m = [np.argmax(all)]; w = []"
   ]
  },
  {
   "cell_type": "markdown",
   "metadata": {
    "papermill": {
     "duration": 0.006775,
     "end_time": "2020-08-18T18:42:53.425409",
     "exception": false,
     "start_time": "2020-08-18T18:42:53.418634",
     "status": "completed"
    },
    "tags": []
   },
   "source": [
    "# Build OOF Ensemble. Maximize CV Score"
   ]
  },
  {
   "cell_type": "code",
   "execution_count": 32,
   "metadata": {
    "execution": {
     "iopub.execute_input": "2020-08-18T18:42:53.460000Z",
     "iopub.status.busy": "2020-08-18T18:42:53.459171Z",
     "iopub.status.idle": "2020-08-18T18:44:38.394414Z",
     "shell.execute_reply": "2020-08-18T18:44:38.393538Z"
    },
    "papermill": {
     "duration": 104.962146,
     "end_time": "2020-08-18T18:44:38.394570",
     "exception": false,
     "start_time": "2020-08-18T18:42:53.432424",
     "status": "completed"
    },
    "tags": []
   },
   "outputs": [
    {
     "name": "stdout",
     "output_type": "stream",
     "text": [
      "Ensemble AUC = 0.8774 by beginning with model 3\n",
      "\n",
      "Searching for best model to add... \n",
      "0 , 1 , 2 , 3 , 4 , 5 , 6 , 7 , \n",
      "Ensemble AUC = 0.8805 after adding model 0 with weight 0.415. Increase of 0.0031\n",
      "\n",
      "Searching for best model to add... \n",
      "0 , 1 , 2 , 3 , 4 , 5 , 6 , 7 , \n",
      "Ensemble AUC = 0.8816 after adding model 4 with weight 0.255. Increase of 0.0011\n",
      "\n",
      "Searching for best model to add... \n",
      "0 , 1 , 2 , 3 , 4 , 5 , 6 , 7 , \n",
      "Ensemble AUC = 0.8823 after adding model 1 with weight 0.290. Increase of 0.0007\n",
      "\n",
      "Searching for best model to add... \n",
      "0 , 1 , 2 , 3 , 4 , 5 , 6 , 7 , \n",
      "Ensemble AUC = 0.8827 after adding model 5 with weight 0.140. Increase of 0.0004\n",
      "\n",
      "Searching for best model to add... \n",
      "0 , 1 , 2 , 3 , 4 , 5 , 6 , 7 , \n",
      "No increase. Stopping.\n"
     ]
    }
   ],
   "source": [
    "old = np.max(all); \n",
    "\n",
    "RES = 200; \n",
    "PATIENCE = 10; \n",
    "TOL = 0.0003\n",
    "DUPLICATES = False\n",
    "\n",
    "print('Ensemble AUC = %.4f by beginning with model %i'%(old,m[0]))\n",
    "print()\n",
    "\n",
    "for kk in range(len(OOF)):\n",
    "    \n",
    "    # BUILD CURRENT ENSEMBLE\n",
    "    md = x[:,m[0]]\n",
    "    for i,k in enumerate(m[1:]):\n",
    "        md = w[i]*x[:,k] + (1-w[i])*md\n",
    "        \n",
    "    # FIND MODEL TO ADD\n",
    "    mx = 0; mx_k = 0; mx_w = 0\n",
    "    print('Searching for best model to add... ')\n",
    "    \n",
    "    # TRY ADDING EACH MODEL\n",
    "    for k in range(x.shape[1]):\n",
    "        print(k,', ',end='')\n",
    "        if not DUPLICATES and (k in m): continue\n",
    "            \n",
    "        # EVALUATE ADDING MODEL K WITH WEIGHTS W\n",
    "        bst_j = 0; bst = 0; ct = 0\n",
    "        for j in range(RES):\n",
    "            tmp = j/RES*x[:,k] + (1-j/RES)*md\n",
    "            auc = roc_auc_score(TRUE,tmp)\n",
    "            if auc>bst:\n",
    "                bst = auc\n",
    "                bst_j = j/RES\n",
    "            else: ct += 1\n",
    "            if ct>PATIENCE: break\n",
    "        if bst>mx:\n",
    "            mx = bst\n",
    "            mx_k = k\n",
    "            mx_w = bst_j\n",
    "            \n",
    "    # STOP IF INCREASE IS LESS THAN TOL\n",
    "    inc = mx-old\n",
    "    if inc<=TOL: \n",
    "        print(); print('No increase. Stopping.')\n",
    "        break\n",
    "        \n",
    "    # DISPLAY RESULTS\n",
    "    print(); #print(kk,mx,mx_k,mx_w,'%.5f'%inc)\n",
    "    print('Ensemble AUC = %.4f after adding model %i with weight %.3f. Increase of %.4f'%(mx,mx_k,mx_w,inc))\n",
    "    print()\n",
    "    \n",
    "    old = mx; m.append(mx_k); w.append(mx_w)"
   ]
  },
  {
   "cell_type": "code",
   "execution_count": 34,
   "metadata": {
    "execution": {
     "iopub.execute_input": "2020-08-18T18:44:38.441473Z",
     "iopub.status.busy": "2020-08-18T18:44:38.440644Z",
     "iopub.status.idle": "2020-08-18T18:44:38.444502Z",
     "shell.execute_reply": "2020-08-18T18:44:38.445151Z"
    },
    "papermill": {
     "duration": 0.030695,
     "end_time": "2020-08-18T18:44:38.445348",
     "exception": false,
     "start_time": "2020-08-18T18:44:38.414653",
     "status": "completed"
    },
    "tags": []
   },
   "outputs": [
    {
     "name": "stdout",
     "output_type": "stream",
     "text": [
      "We are using models [3, 0, 4, 1, 5]\n",
      "with weights [0.415, 0.255, 0.29, 0.14]\n",
      "and achieve ensemble AUC = 0.8827\n"
     ]
    }
   ],
   "source": [
    "print('We are using models',m)\n",
    "print('with weights',w)\n",
    "print('and achieve ensemble AUC = %.4f'%old)"
   ]
  },
  {
   "cell_type": "code",
   "execution_count": 7,
   "metadata": {
    "execution": {
     "iopub.execute_input": "2020-08-18T18:44:38.494492Z",
     "iopub.status.busy": "2020-08-18T18:44:38.493604Z",
     "iopub.status.idle": "2020-08-18T18:44:38.935400Z",
     "shell.execute_reply": "2020-08-18T18:44:38.934738Z"
    },
    "papermill": {
     "duration": 0.46954,
     "end_time": "2020-08-18T18:44:38.935548",
     "exception": false,
     "start_time": "2020-08-18T18:44:38.466008",
     "status": "completed"
    },
    "tags": []
   },
   "outputs": [
    {
     "data": {
      "image/png": "[encoded data removed]",
      "text/plain": [
       "<Figure size 432x288 with 1 Axes>"
      ]
     },
     "metadata": {
      "needs_background": "light"
     },
     "output_type": "display_data"
    }
   ],
   "source": [
    "md = x[:,m[0]]\n",
    "for i,k in enumerate(m[1:]):\n",
    "    md = w[i]*x[:,k] + (1-w[i])*md\n",
    "plt.hist(md,bins=100)\n",
    "plt.title('Ensemble OOF predictions')\n",
    "plt.show()"
   ]
  },
  {
   "cell_type": "code",
   "execution_count": 8,
   "metadata": {
    "execution": {
     "iopub.execute_input": "2020-08-18T18:44:38.983037Z",
     "iopub.status.busy": "2020-08-18T18:44:38.982260Z",
     "iopub.status.idle": "2020-08-18T18:44:39.267461Z",
     "shell.execute_reply": "2020-08-18T18:44:39.266499Z"
    },
    "papermill": {
     "duration": 0.311663,
     "end_time": "2020-08-18T18:44:39.267620",
     "exception": false,
     "start_time": "2020-08-18T18:44:38.955957",
     "status": "completed"
    },
    "tags": []
   },
   "outputs": [
    {
     "name": "stderr",
     "output_type": "stream",
     "text": [
      "/opt/conda/lib/python3.7/site-packages/ipykernel_launcher.py:2: UserWarning: Pandas doesn't allow columns to be created via a new attribute name - see https://pandas.pydata.org/pandas-docs/stable/indexing.html#attribute-access\n",
      "  \n"
     ]
    }
   ],
   "source": [
    "df = OOF_CSV[0].copy()\n",
    "df.pred = md\n",
    "df.to_csv('ensemble_oof.csv',index=False)"
   ]
  },
  {
   "cell_type": "markdown",
   "metadata": {
    "papermill": {
     "duration": 0.020021,
     "end_time": "2020-08-18T18:44:39.308076",
     "exception": false,
     "start_time": "2020-08-18T18:44:39.288055",
     "status": "completed"
    },
    "tags": []
   },
   "source": [
    "# Load SUB Files"
   ]
  },
  {
   "cell_type": "code",
   "execution_count": 9,
   "metadata": {
    "execution": {
     "iopub.execute_input": "2020-08-18T18:44:39.359348Z",
     "iopub.status.busy": "2020-08-18T18:44:39.358536Z",
     "iopub.status.idle": "2020-08-18T18:44:40.002409Z",
     "shell.execute_reply": "2020-08-18T18:44:40.001126Z"
    },
    "papermill": {
     "duration": 0.673444,
     "end_time": "2020-08-18T18:44:40.002618",
     "exception": false,
     "start_time": "2020-08-18T18:44:39.329174",
     "status": "completed"
    },
    "tags": []
   },
   "outputs": [
    {
     "name": "stdout",
     "output_type": "stream",
     "text": [
      "We have 7 submission files...\n",
      "\n",
      "['eca_nfnetl0_sub_01.csv' 'eff_b0_ns_sub_06.csv' 'eff_b0_sub_05.csv'\n",
      " 'eff_b3_ns_sub_07.csv' 'eff_b3_ns_w15_sub_02.csv'\n",
      " 'eff_b3_ns_w9_sub_04.csv' 'eff_v2_s_sub_03.csv']\n"
     ]
    }
   ],
   "source": [
    "SUB = np.sort( [f for f in FILES if 'sub' in f] )\n",
    "SUB_CSV = [pd.read_csv(PATH+k) for k in SUB]\n",
    "\n",
    "print('We have %i submission files...'%len(SUB))\n",
    "print(); print(SUB)"
   ]
  },
  {
   "cell_type": "code",
   "execution_count": 10,
   "metadata": {
    "execution": {
     "iopub.execute_input": "2020-08-18T18:44:40.056096Z",
     "iopub.status.busy": "2020-08-18T18:44:40.055043Z",
     "iopub.status.idle": "2020-08-18T18:44:40.058527Z",
     "shell.execute_reply": "2020-08-18T18:44:40.057596Z"
    },
    "papermill": {
     "duration": 0.03416,
     "end_time": "2020-08-18T18:44:40.058720",
     "exception": false,
     "start_time": "2020-08-18T18:44:40.024560",
     "status": "completed"
    },
    "tags": []
   },
   "outputs": [],
   "source": [
    "# VERFIY THAT SUBMISSION FILES MATCH OOF FILES\n",
    "a = np.array( [ int( x.split('_')[-1].split('.')[0]) for x in SUB ] )\n",
    "b = np.array( [ int( x.split('_')[-1].split('.')[0]) for x in OOF ] )\n",
    "if len(a)!=len(b):\n",
    "    print('ERROR submission files dont match oof files')\n",
    "else:\n",
    "    for k in range(len(a)):\n",
    "        if a[k]!=b[k]: print('ERROR submission files dont match oof files')"
   ]
  },
  {
   "cell_type": "code",
   "execution_count": 11,
   "metadata": {
    "execution": {
     "iopub.execute_input": "2020-08-18T18:44:40.109355Z",
     "iopub.status.busy": "2020-08-18T18:44:40.108124Z",
     "iopub.status.idle": "2020-08-18T18:44:40.125188Z",
     "shell.execute_reply": "2020-08-18T18:44:40.124473Z"
    },
    "papermill": {
     "duration": 0.045533,
     "end_time": "2020-08-18T18:44:40.125346",
     "exception": false,
     "start_time": "2020-08-18T18:44:40.079813",
     "status": "completed"
    },
    "tags": []
   },
   "outputs": [],
   "source": [
    "y = np.zeros(( len(SUB_CSV[0]),len(SUB) ))\n",
    "for k in range(len(SUB)):\n",
    "    y[:,k] = SUB_CSV[k].target.values"
   ]
  },
  {
   "cell_type": "markdown",
   "metadata": {
    "papermill": {
     "duration": 0.020245,
     "end_time": "2020-08-18T18:44:40.166408",
     "exception": false,
     "start_time": "2020-08-18T18:44:40.146163",
     "status": "completed"
    },
    "tags": []
   },
   "source": [
    "# Build SUB Ensemble"
   ]
  },
  {
   "cell_type": "code",
   "execution_count": 12,
   "metadata": {
    "execution": {
     "iopub.execute_input": "2020-08-18T18:44:40.216774Z",
     "iopub.status.busy": "2020-08-18T18:44:40.215952Z",
     "iopub.status.idle": "2020-08-18T18:44:40.682433Z",
     "shell.execute_reply": "2020-08-18T18:44:40.681761Z"
    },
    "papermill": {
     "duration": 0.495021,
     "end_time": "2020-08-18T18:44:40.682583",
     "exception": false,
     "start_time": "2020-08-18T18:44:40.187562",
     "status": "completed"
    },
    "tags": []
   },
   "outputs": [
    {
     "data": {
      "image/png": "[encoded data removed]",
      "text/plain": [
       "<Figure size 432x288 with 1 Axes>"
      ]
     },
     "metadata": {
      "needs_background": "light"
     },
     "output_type": "display_data"
    }
   ],
   "source": [
    "md2 = y[:,m[0]]\n",
    "for i,k in enumerate(m[1:]):\n",
    "    md2 = w[i]*y[:,k] + (1-w[i])*md2\n",
    "plt.hist(md2,bins=100)\n",
    "plt.show()"
   ]
  },
  {
   "cell_type": "code",
   "execution_count": 13,
   "metadata": {
    "execution": {
     "iopub.execute_input": "2020-08-18T18:44:40.734138Z",
     "iopub.status.busy": "2020-08-18T18:44:40.733251Z",
     "iopub.status.idle": "2020-08-18T18:44:40.790929Z",
     "shell.execute_reply": "2020-08-18T18:44:40.791648Z"
    },
    "papermill": {
     "duration": 0.087869,
     "end_time": "2020-08-18T18:44:40.791867",
     "exception": false,
     "start_time": "2020-08-18T18:44:40.703998",
     "status": "completed"
    },
    "tags": []
   },
   "outputs": [],
   "source": [
    "df = SUB_CSV[0].copy()\n",
    "df.target = md2\n",
    "df.to_csv('ensemble_subv2.csv',index=False)"
   ]
  },
  {
   "cell_type": "code",
   "execution_count": null,
   "metadata": {},
   "outputs": [],
   "source": []
  }
 ],
 "metadata": {
  "environment": {
   "name": "pytorch-gpu.1-9.m75",
   "type": "gcloud",
   "uri": "gcr.io/deeplearning-platform-release/pytorch-gpu.1-9:m75"
  },
  "kernelspec": {
   "display_name": "Python 3",
   "language": "python",
   "name": "python3"
  },
  "language_info": {
   "codemirror_mode": {
    "name": "ipython",
    "version": 3
   },
   "file_extension": ".py",
   "mimetype": "text/x-python",
   "name": "python",
   "nbconvert_exporter": "python",
   "pygments_lexer": "ipython3",
   "version": "3.7.10"
  },
  "papermill": {
   "duration": 116.576323,
   "end_time": "2020-08-18T18:44:40.923814",
   "environment_variables": {},
   "exception": null,
   "input_path": "__notebook__.ipynb",
   "output_path": "__notebook__.ipynb",
   "parameters": {},
   "start_time": "2020-08-18T18:42:44.347491",
   "version": "2.1.0"
  }
 },
 "nbformat": 4,
 "nbformat_minor": 4
}
