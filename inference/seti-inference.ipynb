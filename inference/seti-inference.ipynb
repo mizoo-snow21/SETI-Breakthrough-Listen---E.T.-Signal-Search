{
 "cells": [
  {
   "cell_type": "markdown",
   "id": "8069d6e3",
   "metadata": {
    "papermill": {
     "duration": 0.016493,
     "end_time": "2021-08-11T02:35:30.980830",
     "exception": false,
     "start_time": "2021-08-11T02:35:30.964337",
     "status": "completed"
    },
    "tags": []
   },
   "source": [
    "# About this notebook\n",
    "- PyTorch nfnet_l0 starter code\n",
    "- StratifiedKFold 4 folds\n",
    "- training notebook is [here](https://www.kaggle.com/yasufuminakama/seti-nfnet-l0-starter-training)\n",
    "\n",
    "If this notebook is helpful, feel free to upvote :)"
   ]
  },
  {
   "cell_type": "markdown",
   "id": "f87e8fa8",
   "metadata": {
    "papermill": {
     "duration": 0.015184,
     "end_time": "2021-08-11T02:35:31.012078",
     "exception": false,
     "start_time": "2021-08-11T02:35:30.996894",
     "status": "completed"
    },
    "tags": []
   },
   "source": [
    "# CFG"
   ]
  },
  {
   "cell_type": "code",
   "execution_count": 1,
   "id": "5d34b36c",
   "metadata": {
    "execution": {
     "iopub.execute_input": "2021-08-11T02:35:31.047946Z",
     "iopub.status.busy": "2021-08-11T02:35:31.046464Z",
     "iopub.status.idle": "2021-08-11T02:35:31.055688Z",
     "shell.execute_reply": "2021-08-11T02:35:31.056119Z",
     "shell.execute_reply.started": "2021-08-11T02:33:53.169097Z"
    },
    "papermill": {
     "duration": 0.028888,
     "end_time": "2021-08-11T02:35:31.056328",
     "exception": false,
     "start_time": "2021-08-11T02:35:31.027440",
     "status": "completed"
    },
    "tags": []
   },
   "outputs": [],
   "source": [
    "# ====================================================\n",
    "# CFG\n",
    "# ====================================================\n",
    "class CFG:\n",
    "    num_workers=4\n",
    "    model_name='tf_efficientnet_b3_ns'\n",
    "    size=512\n",
    "    batch_size=32\n",
    "    seed=42\n",
    "    target_size=1\n",
    "    target_col='target'\n",
    "    n_fold=5\n",
    "    trn_fold=[0,1,2,3,4]\n",
    "    tta = 5\n",
    "    multisample_dropout=False"
   ]
  },
  {
   "cell_type": "markdown",
   "id": "8bb8ee7e",
   "metadata": {
    "papermill": {
     "duration": 0.014193,
     "end_time": "2021-08-11T02:35:31.084735",
     "exception": false,
     "start_time": "2021-08-11T02:35:31.070542",
     "status": "completed"
    },
    "tags": []
   },
   "source": [
    "# Library"
   ]
  },
  {
   "cell_type": "code",
   "execution_count": 2,
   "id": "05f5c976",
   "metadata": {
    "execution": {
     "iopub.execute_input": "2021-08-11T02:35:31.121360Z",
     "iopub.status.busy": "2021-08-11T02:35:31.120688Z",
     "iopub.status.idle": "2021-08-11T02:35:35.082231Z",
     "shell.execute_reply": "2021-08-11T02:35:35.081709Z",
     "shell.execute_reply.started": "2021-08-11T02:33:53.423953Z"
    },
    "papermill": {
     "duration": 3.983437,
     "end_time": "2021-08-11T02:35:35.082364",
     "exception": false,
     "start_time": "2021-08-11T02:35:31.098927",
     "status": "completed"
    },
    "tags": []
   },
   "outputs": [],
   "source": [
    "# ====================================================\n",
    "# Library\n",
    "# ====================================================\n",
    "\n",
    "import os\n",
    "import math\n",
    "import time\n",
    "import random\n",
    "import shutil\n",
    "from pathlib import Path\n",
    "from contextlib import contextmanager\n",
    "from collections import defaultdict, Counter\n",
    "\n",
    "import scipy as sp\n",
    "import numpy as np\n",
    "import pandas as pd\n",
    "\n",
    "from sklearn import preprocessing\n",
    "from sklearn.metrics import roc_auc_score\n",
    "from sklearn.model_selection import StratifiedKFold, GroupKFold, KFold\n",
    "\n",
    "from tqdm.auto import tqdm\n",
    "from functools import partial\n",
    "\n",
    "import cv2\n",
    "from PIL import Image\n",
    "\n",
    "import torch\n",
    "import torch.nn as nn\n",
    "import torch.nn.functional as F\n",
    "from torch.optim import Adam, SGD\n",
    "import torchvision.models as models\n",
    "from torch.nn.parameter import Parameter\n",
    "from torch.utils.data import DataLoader, Dataset\n",
    "from torch.optim.lr_scheduler import CosineAnnealingWarmRestarts, CosineAnnealingLR, ReduceLROnPlateau\n",
    "\n",
    "import albumentations as A\n",
    "from albumentations.pytorch import ToTensorV2\n",
    "from albumentations import ImageOnlyTransform\n",
    "\n",
    "import timm\n",
    "\n",
    "from torch.cuda.amp import autocast, GradScaler\n",
    "\n",
    "import warnings \n",
    "warnings.filterwarnings('ignore')\n",
    "\n",
    "device = torch.device('cuda' if torch.cuda.is_available() else 'cpu')"
   ]
  },
  {
   "cell_type": "markdown",
   "id": "0d113f67",
   "metadata": {
    "papermill": {
     "duration": 0.014301,
     "end_time": "2021-08-11T02:35:35.111676",
     "exception": false,
     "start_time": "2021-08-11T02:35:35.097375",
     "status": "completed"
    },
    "tags": []
   },
   "source": [
    "# Utils"
   ]
  },
  {
   "cell_type": "code",
   "execution_count": 3,
   "id": "a0cc5b02",
   "metadata": {
    "execution": {
     "iopub.execute_input": "2021-08-11T02:35:35.148256Z",
     "iopub.status.busy": "2021-08-11T02:35:35.147587Z",
     "iopub.status.idle": "2021-08-11T02:35:35.152622Z",
     "shell.execute_reply": "2021-08-11T02:35:35.152226Z",
     "shell.execute_reply.started": "2021-08-11T02:33:53.683468Z"
    },
    "papermill": {
     "duration": 0.026723,
     "end_time": "2021-08-11T02:35:35.152727",
     "exception": false,
     "start_time": "2021-08-11T02:35:35.126004",
     "status": "completed"
    },
    "tags": []
   },
   "outputs": [],
   "source": [
    "# ====================================================\n",
    "# Utils\n",
    "# ====================================================\n",
    "def get_score(y_true, y_pred):\n",
    "    score = roc_auc_score(y_true, y_pred)\n",
    "    return score\n",
    "\n",
    "\n",
    "def init_logger(log_file='inference.log'):\n",
    "    from logging import getLogger, INFO, FileHandler,  Formatter,  StreamHandler\n",
    "    logger = getLogger(__name__)\n",
    "    logger.setLevel(INFO)\n",
    "    handler1 = StreamHandler()\n",
    "    handler1.setFormatter(Formatter(\"%(message)s\"))\n",
    "    handler2 = FileHandler(filename=log_file)\n",
    "    handler2.setFormatter(Formatter(\"%(message)s\"))\n",
    "    logger.addHandler(handler1)\n",
    "    logger.addHandler(handler2)\n",
    "    return logger\n",
    "\n",
    "LOGGER = init_logger()\n",
    "\n",
    "\n",
    "def seed_torch(seed=42):\n",
    "    random.seed(seed)\n",
    "    os.environ['PYTHONHASHSEED'] = str(seed)\n",
    "    np.random.seed(seed)\n",
    "    torch.manual_seed(seed)\n",
    "    torch.cuda.manual_seed(seed)\n",
    "    torch.backends.cudnn.deterministic = True\n",
    "\n",
    "seed_torch(seed=CFG.seed)"
   ]
  },
  {
   "cell_type": "markdown",
   "id": "a644cb52",
   "metadata": {
    "papermill": {
     "duration": 0.013909,
     "end_time": "2021-08-11T02:35:35.180911",
     "exception": false,
     "start_time": "2021-08-11T02:35:35.167002",
     "status": "completed"
    },
    "tags": []
   },
   "source": [
    "# Data Loading"
   ]
  },
  {
   "cell_type": "code",
   "execution_count": 4,
   "id": "f611015e",
   "metadata": {
    "execution": {
     "iopub.execute_input": "2021-08-11T02:35:35.215769Z",
     "iopub.status.busy": "2021-08-11T02:35:35.215280Z",
     "iopub.status.idle": "2021-08-11T02:35:35.296435Z",
     "shell.execute_reply": "2021-08-11T02:35:35.295609Z",
     "shell.execute_reply.started": "2021-08-11T02:33:53.926640Z"
    },
    "papermill": {
     "duration": 0.101488,
     "end_time": "2021-08-11T02:35:35.296569",
     "exception": false,
     "start_time": "2021-08-11T02:35:35.195081",
     "status": "completed"
    },
    "tags": []
   },
   "outputs": [
    {
     "data": {
      "text/html": [
       "<div>\n",
       "<style scoped>\n",
       "    .dataframe tbody tr th:only-of-type {\n",
       "        vertical-align: middle;\n",
       "    }\n",
       "\n",
       "    .dataframe tbody tr th {\n",
       "        vertical-align: top;\n",
       "    }\n",
       "\n",
       "    .dataframe thead th {\n",
       "        text-align: right;\n",
       "    }\n",
       "</style>\n",
       "<table border=\"1\" class=\"dataframe\">\n",
       "  <thead>\n",
       "    <tr style=\"text-align: right;\">\n",
       "      <th></th>\n",
       "      <th>id</th>\n",
       "      <th>target</th>\n",
       "      <th>file_path</th>\n",
       "    </tr>\n",
       "  </thead>\n",
       "  <tbody>\n",
       "    <tr>\n",
       "      <th>0</th>\n",
       "      <td>000bf832cae9ff1</td>\n",
       "      <td>0.5</td>\n",
       "      <td>seti-breakthrough-listen/test/0/000bf832cae9ff...</td>\n",
       "    </tr>\n",
       "    <tr>\n",
       "      <th>1</th>\n",
       "      <td>000c74cc71a1140</td>\n",
       "      <td>0.5</td>\n",
       "      <td>seti-breakthrough-listen/test/0/000c74cc71a114...</td>\n",
       "    </tr>\n",
       "    <tr>\n",
       "      <th>2</th>\n",
       "      <td>000f5f9851161d3</td>\n",
       "      <td>0.5</td>\n",
       "      <td>seti-breakthrough-listen/test/0/000f5f9851161d...</td>\n",
       "    </tr>\n",
       "    <tr>\n",
       "      <th>3</th>\n",
       "      <td>000f7499e95aba6</td>\n",
       "      <td>0.5</td>\n",
       "      <td>seti-breakthrough-listen/test/0/000f7499e95aba...</td>\n",
       "    </tr>\n",
       "    <tr>\n",
       "      <th>4</th>\n",
       "      <td>00133ce6ec257f9</td>\n",
       "      <td>0.5</td>\n",
       "      <td>seti-breakthrough-listen/test/0/00133ce6ec257f...</td>\n",
       "    </tr>\n",
       "  </tbody>\n",
       "</table>\n",
       "</div>"
      ],
      "text/plain": [
       "                id  target                                          file_path\n",
       "0  000bf832cae9ff1     0.5  seti-breakthrough-listen/test/0/000bf832cae9ff...\n",
       "1  000c74cc71a1140     0.5  seti-breakthrough-listen/test/0/000c74cc71a114...\n",
       "2  000f5f9851161d3     0.5  seti-breakthrough-listen/test/0/000f5f9851161d...\n",
       "3  000f7499e95aba6     0.5  seti-breakthrough-listen/test/0/000f7499e95aba...\n",
       "4  00133ce6ec257f9     0.5  seti-breakthrough-listen/test/0/00133ce6ec257f..."
      ]
     },
     "metadata": {},
     "output_type": "display_data"
    }
   ],
   "source": [
    "test = pd.read_csv('seti-breakthrough-listen/sample_submission.csv')\n",
    "\n",
    "def get_test_file_path(image_id):\n",
    "    return \"seti-breakthrough-listen/test/{}/{}.npy\".format(image_id[0], image_id)\n",
    "\n",
    "test['file_path'] = test['id'].apply(get_test_file_path)\n",
    "\n",
    "display(test.head())"
   ]
  },
  {
   "cell_type": "markdown",
   "id": "b3c9ddb5",
   "metadata": {
    "papermill": {
     "duration": 0.014691,
     "end_time": "2021-08-11T02:35:35.326620",
     "exception": false,
     "start_time": "2021-08-11T02:35:35.311929",
     "status": "completed"
    },
    "tags": []
   },
   "source": [
    "# Dataset"
   ]
  },
  {
   "cell_type": "code",
   "execution_count": 5,
   "id": "3c9a2132",
   "metadata": {
    "execution": {
     "iopub.execute_input": "2021-08-11T02:35:35.364501Z",
     "iopub.status.busy": "2021-08-11T02:35:35.363219Z",
     "iopub.status.idle": "2021-08-11T02:35:35.365562Z",
     "shell.execute_reply": "2021-08-11T02:35:35.365961Z",
     "shell.execute_reply.started": "2021-08-11T02:33:54.162823Z"
    },
    "papermill": {
     "duration": 0.024348,
     "end_time": "2021-08-11T02:35:35.366109",
     "exception": false,
     "start_time": "2021-08-11T02:35:35.341761",
     "status": "completed"
    },
    "tags": []
   },
   "outputs": [],
   "source": [
    "# ====================================================\n",
    "# Dataset\n",
    "# ====================================================\n",
    "class TestDataset(Dataset):\n",
    "    def __init__(self, df, transform=None):\n",
    "        self.df = df\n",
    "        self.file_names = df['file_path'].values\n",
    "        self.transform = transform\n",
    "        \n",
    "    def __len__(self):\n",
    "        return len(self.df)\n",
    "\n",
    "    def __getitem__(self, idx):\n",
    "        file_path = self.file_names[idx]\n",
    "        image = np.load(file_path)\n",
    "        image = image[::2]\n",
    "        image = image.astype(np.float32)\n",
    "        image = np.vstack(image).transpose((1, 0))\n",
    "        if self.transform:\n",
    "            image = self.transform(image=image)['image']\n",
    "        else:\n",
    "            image = image[np.newaxis,:,:]\n",
    "            image = torch.from_numpy(image).float()\n",
    "        return image"
   ]
  },
  {
   "cell_type": "markdown",
   "id": "9cad504b",
   "metadata": {
    "papermill": {
     "duration": 0.014479,
     "end_time": "2021-08-11T02:35:35.395149",
     "exception": false,
     "start_time": "2021-08-11T02:35:35.380670",
     "status": "completed"
    },
    "tags": []
   },
   "source": [
    "# Transforms"
   ]
  },
  {
   "cell_type": "code",
   "execution_count": 6,
   "id": "11830008",
   "metadata": {
    "execution": {
     "iopub.execute_input": "2021-08-11T02:35:35.438565Z",
     "iopub.status.busy": "2021-08-11T02:35:35.437276Z",
     "iopub.status.idle": "2021-08-11T02:35:35.439590Z",
     "shell.execute_reply": "2021-08-11T02:35:35.440004Z",
     "shell.execute_reply.started": "2021-08-11T02:33:54.402108Z"
    },
    "papermill": {
     "duration": 0.030336,
     "end_time": "2021-08-11T02:35:35.440138",
     "exception": false,
     "start_time": "2021-08-11T02:35:35.409802",
     "status": "completed"
    },
    "tags": []
   },
   "outputs": [],
   "source": [
    "# ====================================================\n",
    "# Transforms\n",
    "# ====================================================\n",
    "def get_transforms(*, data):\n",
    "    \n",
    "    if data == 'train':\n",
    "        return A.Compose([\n",
    "            A.Resize(CFG.size, CFG.size),\n",
    "            ToTensorV2(),\n",
    "        ])\n",
    "\n",
    "    elif data == 'valid':\n",
    "        return A.Compose([\n",
    "            A.Resize(CFG.size, CFG.size),\n",
    "            ToTensorV2(),\n",
    "        ])\n",
    "\n",
    "def get_test_transforms(mode):\n",
    "    if mode == 0:\n",
    "        return A.Compose([\n",
    "            A.Resize(CFG.size, CFG.size, p=1.0),\n",
    "            A.HorizontalFlip(p=0.5),\n",
    "            A.VerticalFlip(p=0.5),\n",
    "            A.ShiftScaleRotate(rotate_limit=0, p=0.25),\n",
    "            A.OneOf([\n",
    "                A.MotionBlur(p=1.0),\n",
    "                A.GaussianBlur(p=1.0),\n",
    "                A.GaussNoise(p=1.0),\n",
    "            ], p=0.2),\n",
    "            A.OneOf([\n",
    "                A.OpticalDistortion(distort_limit=1.0, p=1.0),\n",
    "                A.GridDistortion(num_steps=5, distort_limit=1.0, p=1.0),\n",
    "                A.ElasticTransform(alpha=3, p=1.0),\n",
    "            ], p=0.2),\n",
    "            A.IAASharpen(p=0.25),\n",
    "            A.Cutout(p=0.3),\n",
    "            ToTensorV2(),\n",
    "        ])\n",
    "    elif mode == 1:\n",
    "        return A.Compose([\n",
    "            A.Resize(CFG.size, CFG.size, p=1.0),\n",
    "            A.HorizontalFlip(p=0.5),\n",
    "            A.VerticalFlip(p=0.5),\n",
    "            #A.ShiftScaleRotate(rotate_limit=0, p=0.25),\n",
    "            #A.OpticalDistortion(distort_limit=1.0, p=0.4),\n",
    "            #A.GaussianBlur(p=0.4),\n",
    "            #A.IAASharpen(p=0.25),\n",
    "            #A.Cutout(max_h_size=int(CFG.size * 0.2), max_w_size=int(CFG.size * 0.2), num_holes=1, p=0.3),\n",
    "            ToTensorV2(),\n",
    "        ])\n",
    "    elif mode == 2:\n",
    "        return A.Compose([\n",
    "            A.Resize(CFG.size, CFG.size, p=1.0),\n",
    "            #A.HorizontalFlip(p=0.5),\n",
    "            A.VerticalFlip(p=0.5),\n",
    "            A.ShiftScaleRotate(rotate_limit=0, p=0.25),\n",
    "            A.OpticalDistortion(distort_limit=1.0, p=0.2),\n",
    "            #A.MotionBlur(p=0.2),\n",
    "            A.IAASharpen(p=0.25),\n",
    "            #A.Cutout(max_h_size=int(CFG.size * 0.2), max_w_size=int(CFG.size * 0.2), num_holes=1, p=0.3),\n",
    "            ToTensorV2(),\n",
    "        ])\n",
    "    else:\n",
    "        return A.Compose([\n",
    "            A.Resize(CFG.size, CFG.size, p=1.0),\n",
    "            ToTensorV2(),\n",
    "        ])"
   ]
  },
  {
   "cell_type": "code",
   "execution_count": 7,
   "id": "bcfc179f",
   "metadata": {
    "execution": {
     "iopub.execute_input": "2021-08-11T02:35:35.481003Z",
     "iopub.status.busy": "2021-08-11T02:35:35.479791Z",
     "iopub.status.idle": "2021-08-11T02:35:35.482496Z",
     "shell.execute_reply": "2021-08-11T02:35:35.482097Z",
     "shell.execute_reply.started": "2021-08-11T02:33:54.870927Z"
    },
    "papermill": {
     "duration": 0.027397,
     "end_time": "2021-08-11T02:35:35.482602",
     "exception": false,
     "start_time": "2021-08-11T02:35:35.455205",
     "status": "completed"
    },
    "tags": []
   },
   "outputs": [],
   "source": [
    "class Mish_func(torch.autograd.Function):\n",
    "    \n",
    "    \"\"\"from: https://github.com/tyunist/memory_efficient_mish_swish/blob/master/mish.py\"\"\"\n",
    "    \n",
    "    @staticmethod\n",
    "    def forward(ctx, i):\n",
    "        result = i * torch.tanh(F.softplus(i))\n",
    "        ctx.save_for_backward(i)\n",
    "        return result\n",
    "\n",
    "    @staticmethod\n",
    "    def backward(ctx, grad_output):\n",
    "        i = ctx.saved_variables[0]\n",
    "  \n",
    "        v = 1. + i.exp()\n",
    "        h = v.log() \n",
    "        grad_gh = 1./h.cosh().pow_(2) \n",
    "\n",
    "        # Note that grad_hv * grad_vx = sigmoid(x)\n",
    "        #grad_hv = 1./v  \n",
    "        #grad_vx = i.exp()\n",
    "        \n",
    "        grad_hx = i.sigmoid()\n",
    "\n",
    "        grad_gx = grad_gh *  grad_hx #grad_hv * grad_vx \n",
    "        \n",
    "        grad_f =  torch.tanh(F.softplus(i)) + i * grad_gx \n",
    "        \n",
    "        return grad_output * grad_f \n",
    "\n",
    "\n",
    "class Mish(nn.Module):\n",
    "    def __init__(self, **kwargs):\n",
    "        super().__init__()\n",
    "        pass\n",
    "    def forward(self, input_tensor):\n",
    "        return Mish_func.apply(input_tensor)\n",
    "\n",
    "\n",
    "def replace_activations(model, existing_layer, new_layer):\n",
    "    \n",
    "    \"\"\"A function for replacing existing activation layers\"\"\"\n",
    "    \n",
    "    for name, module in reversed(model._modules.items()):\n",
    "        if len(list(module.children())) > 0:\n",
    "            model._modules[name] = replace_activations(module, existing_layer, new_layer)\n",
    "\n",
    "        if type(module) == existing_layer:\n",
    "            layer_old = module\n",
    "            layer_new = new_layer\n",
    "            model._modules[name] = layer_new\n",
    "    return model"
   ]
  },
  {
   "cell_type": "markdown",
   "id": "78fd1924",
   "metadata": {
    "papermill": {
     "duration": 0.014563,
     "end_time": "2021-08-11T02:35:35.511947",
     "exception": false,
     "start_time": "2021-08-11T02:35:35.497384",
     "status": "completed"
    },
    "tags": []
   },
   "source": [
    "# MODEL"
   ]
  },
  {
   "cell_type": "code",
   "execution_count": 8,
   "id": "1ed787c7",
   "metadata": {
    "execution": {
     "iopub.execute_input": "2021-08-11T02:35:35.545902Z",
     "iopub.status.busy": "2021-08-11T02:35:35.545395Z",
     "iopub.status.idle": "2021-08-11T02:35:35.549217Z",
     "shell.execute_reply": "2021-08-11T02:35:35.548768Z",
     "shell.execute_reply.started": "2021-08-11T02:33:55.451095Z"
    },
    "papermill": {
     "duration": 0.022584,
     "end_time": "2021-08-11T02:35:35.549325",
     "exception": false,
     "start_time": "2021-08-11T02:35:35.526741",
     "status": "completed"
    },
    "tags": []
   },
   "outputs": [],
   "source": [
    "class GAP(nn.Module):\n",
    "    def __init__(self):\n",
    "        super().__init__()\n",
    "    def forward(self, x):\n",
    "        return F.adaptive_avg_pool2d(x, (1,1)).squeeze()"
   ]
  },
  {
   "cell_type": "code",
   "execution_count": 9,
   "id": "061f05d6",
   "metadata": {
    "execution": {
     "iopub.execute_input": "2021-08-11T02:35:35.588431Z",
     "iopub.status.busy": "2021-08-11T02:35:35.587767Z",
     "iopub.status.idle": "2021-08-11T02:35:35.591171Z",
     "shell.execute_reply": "2021-08-11T02:35:35.590761Z",
     "shell.execute_reply.started": "2021-08-11T02:33:55.682030Z"
    },
    "papermill": {
     "duration": 0.027366,
     "end_time": "2021-08-11T02:35:35.591279",
     "exception": false,
     "start_time": "2021-08-11T02:35:35.563913",
     "status": "completed"
    },
    "tags": []
   },
   "outputs": [],
   "source": [
    "# ====================================================\n",
    "# MODEL\n",
    "# ====================================================\n",
    "class CustomModel(nn.Module):\n",
    "    def __init__(self, cfg, pretrained=False):\n",
    "        super().__init__()\n",
    "        self.cfg = cfg\n",
    "        self.model = timm.create_model(self.cfg.model_name, pretrained=pretrained, in_chans=1)\n",
    "        if  \"eff\" in self.cfg.model_name:\n",
    "            self.n_features = self.model.classifier.in_features\n",
    "            #self.model.classifier = nn.Linear(self.n_features, self.cfg.target_size)\n",
    "        elif \"mixer\" in self.cfg.model_name:\n",
    "            self.n_features = self.model.head.in_features\n",
    "            #self.model.head = nn.Linear(self.n_features, self.cfg.target_size)\n",
    "        elif \"resnest\" in self.cfg.model_name:\n",
    "            self.n_features = self.model.fc.in_features\n",
    "            #self.model.fc = nn.Linear(self.n_features, self.cfg.target_size)\n",
    "        elif \"nfnet\" in self.cfg.model_name:\n",
    "            self.n_features = self.model.head.fc.in_features\n",
    "            #self.model.head.fc = nn.Linear(self.n_features, self.cfg.target_size)\n",
    "        self.dropout = nn.Dropout(0.2)\n",
    "        self.global_pool = GAP()\n",
    "        self.flatten = nn.Flatten()\n",
    "        self.l0 = nn.Linear(self.n_features, self.cfg.target_size)\n",
    "        \n",
    "    def forward(self, x):\n",
    "        features = self.model.forward_features(x)\n",
    "        x = self.global_pool(features)\n",
    "        x = self.flatten(x)\n",
    "        if self.cfg.multisample_dropout:\n",
    "            x = torch.mean(\n",
    "                torch.stack(\n",
    "                    [self.l0(self.dropout(x)) for _ in range(5)],\n",
    "                    dim=0,\n",
    "                ),\n",
    "                dim=0,\n",
    "            )\n",
    "        else:\n",
    "            x = self.l0(x)\n",
    "        return x"
   ]
  },
  {
   "cell_type": "markdown",
   "id": "0ed40e12",
   "metadata": {
    "papermill": {
     "duration": 0.014548,
     "end_time": "2021-08-11T02:35:35.620510",
     "exception": false,
     "start_time": "2021-08-11T02:35:35.605962",
     "status": "completed"
    },
    "tags": []
   },
   "source": [
    "# Helper functions"
   ]
  },
  {
   "cell_type": "code",
   "execution_count": 10,
   "id": "414486df",
   "metadata": {
    "execution": {
     "iopub.execute_input": "2021-08-11T02:35:35.656608Z",
     "iopub.status.busy": "2021-08-11T02:35:35.655933Z",
     "iopub.status.idle": "2021-08-11T02:35:35.658781Z",
     "shell.execute_reply": "2021-08-11T02:35:35.659167Z",
     "shell.execute_reply.started": "2021-08-11T02:33:56.271872Z"
    },
    "papermill": {
     "duration": 0.024037,
     "end_time": "2021-08-11T02:35:35.659294",
     "exception": false,
     "start_time": "2021-08-11T02:35:35.635257",
     "status": "completed"
    },
    "tags": []
   },
   "outputs": [],
   "source": [
    "# ====================================================\n",
    "# Helper functions\n",
    "# ====================================================\n",
    "def inference(model, states, test_loader, device):\n",
    "    model.to(device)\n",
    "    tk0 = tqdm(enumerate(test_loader), total=len(test_loader))\n",
    "    probs = []\n",
    "    for i, (images) in tk0:\n",
    "        images = images.to(device)\n",
    "        avg_preds = []\n",
    "        for state in states:\n",
    "            model.load_state_dict(state['model'])\n",
    "            model.eval()\n",
    "            with torch.no_grad():\n",
    "                y_preds = model(images)\n",
    "            avg_preds.append(y_preds.sigmoid().to('cpu').numpy())\n",
    "        avg_preds = np.mean(avg_preds, axis=0)\n",
    "        probs.append(avg_preds)\n",
    "    probs = np.concatenate(probs)\n",
    "    return probs"
   ]
  },
  {
   "cell_type": "markdown",
   "id": "7bbc75cb",
   "metadata": {
    "papermill": {
     "duration": 0.014583,
     "end_time": "2021-08-11T02:35:35.688673",
     "exception": false,
     "start_time": "2021-08-11T02:35:35.674090",
     "status": "completed"
    },
    "tags": []
   },
   "source": [
    "# inference"
   ]
  },
  {
   "cell_type": "code",
   "execution_count": 11,
   "id": "5fa3eb22",
   "metadata": {
    "execution": {
     "iopub.execute_input": "2021-08-11T02:35:35.726097Z",
     "iopub.status.busy": "2021-08-11T02:35:35.725465Z",
     "iopub.status.idle": "2021-08-11T02:50:18.612796Z",
     "shell.execute_reply": "2021-08-11T02:50:18.613588Z"
    },
    "papermill": {
     "duration": 882.910177,
     "end_time": "2021-08-11T02:50:18.613806",
     "exception": false,
     "start_time": "2021-08-11T02:35:35.703629",
     "status": "completed"
    },
    "tags": []
   },
   "outputs": [
    {
     "data": {
      "application/vnd.jupyter.widget-view+json": {
       "model_id": "78812a9870e74b2088f62469834562dd",
       "version_major": 2,
       "version_minor": 0
      },
      "text/plain": [
       "  0%|          | 0/1250 [00:00<?, ?it/s]"
      ]
     },
     "metadata": {},
     "output_type": "display_data"
    }
   ],
   "source": [
    "# ====================================================\n",
    "# inference\n",
    "# ====================================================\n",
    "model = CustomModel(CFG, pretrained=False)\n",
    "model = replace_activations(model, torch.nn.ReLU, Mish())\n",
    "MODEL_DIR = 'eff_b3_ns/'\n",
    "predictions = []\n",
    "states = [torch.load(MODEL_DIR+f'{CFG.model_name}_fold{fold}_best_loss.pth') for fold in CFG.trn_fold]\n",
    "if CFG.tta == 4:\n",
    "    for mode in range(CFG.tta):\n",
    "        test_dataset = TestDataset(test, transform=get_test_transforms(mode))\n",
    "        test_loader = DataLoader(test_dataset, batch_size=CFG.batch_size, shuffle=False, \n",
    "                                 num_workers=CFG.num_workers, pin_memory=True)\n",
    "        predictions.append(inference(model, states, test_loader, device))\n",
    "else:\n",
    "        test_dataset = TestDataset(test, transform=get_test_transforms(5))\n",
    "        test_loader = DataLoader(test_dataset, batch_size=CFG.batch_size, shuffle=False, \n",
    "                                 num_workers=CFG.num_workers, pin_memory=True)\n",
    "        predictions = inference(model, states, test_loader, device)"
   ]
  },
  {
   "cell_type": "code",
   "execution_count": 12,
   "id": "f984378d",
   "metadata": {
    "execution": {
     "iopub.execute_input": "2021-08-11T02:50:18.679857Z",
     "iopub.status.busy": "2021-08-11T02:50:18.673625Z",
     "iopub.status.idle": "2021-08-11T02:50:19.761749Z",
     "shell.execute_reply": "2021-08-11T02:50:19.761328Z"
    },
    "papermill": {
     "duration": 1.129598,
     "end_time": "2021-08-11T02:50:19.761867",
     "exception": false,
     "start_time": "2021-08-11T02:50:18.632269",
     "status": "completed"
    },
    "tags": []
   },
   "outputs": [
    {
     "data": {
      "text/html": [
       "<div>\n",
       "<style scoped>\n",
       "    .dataframe tbody tr th:only-of-type {\n",
       "        vertical-align: middle;\n",
       "    }\n",
       "\n",
       "    .dataframe tbody tr th {\n",
       "        vertical-align: top;\n",
       "    }\n",
       "\n",
       "    .dataframe thead th {\n",
       "        text-align: right;\n",
       "    }\n",
       "</style>\n",
       "<table border=\"1\" class=\"dataframe\">\n",
       "  <thead>\n",
       "    <tr style=\"text-align: right;\">\n",
       "      <th></th>\n",
       "      <th>id</th>\n",
       "      <th>target</th>\n",
       "    </tr>\n",
       "  </thead>\n",
       "  <tbody>\n",
       "    <tr>\n",
       "      <th>0</th>\n",
       "      <td>000bf832cae9ff1</td>\n",
       "      <td>0.055040</td>\n",
       "    </tr>\n",
       "    <tr>\n",
       "      <th>1</th>\n",
       "      <td>000c74cc71a1140</td>\n",
       "      <td>0.060592</td>\n",
       "    </tr>\n",
       "    <tr>\n",
       "      <th>2</th>\n",
       "      <td>000f5f9851161d3</td>\n",
       "      <td>0.056416</td>\n",
       "    </tr>\n",
       "    <tr>\n",
       "      <th>3</th>\n",
       "      <td>000f7499e95aba6</td>\n",
       "      <td>0.097937</td>\n",
       "    </tr>\n",
       "    <tr>\n",
       "      <th>4</th>\n",
       "      <td>00133ce6ec257f9</td>\n",
       "      <td>0.058025</td>\n",
       "    </tr>\n",
       "  </tbody>\n",
       "</table>\n",
       "</div>"
      ],
      "text/plain": [
       "                id    target\n",
       "0  000bf832cae9ff1  0.055040\n",
       "1  000c74cc71a1140  0.060592\n",
       "2  000f5f9851161d3  0.056416\n",
       "3  000f7499e95aba6  0.097937\n",
       "4  00133ce6ec257f9  0.058025"
      ]
     },
     "execution_count": 12,
     "metadata": {},
     "output_type": "execute_result"
    }
   ],
   "source": [
    "# submission\n",
    "if CFG.tta == 4:\n",
    "    test['target'] = np.mean(predictions, axis=0)\n",
    "else:\n",
    "    test['target'] = predictions\n",
    "test[['id', 'target']].to_csv('submission.csv', index=False)\n",
    "test[['id', 'target']].head()"
   ]
  },
  {
   "cell_type": "code",
   "execution_count": 13,
   "id": "6feca852",
   "metadata": {
    "execution": {
     "iopub.execute_input": "2021-08-11T02:50:19.797907Z",
     "iopub.status.busy": "2021-08-11T02:50:19.797372Z",
     "iopub.status.idle": "2021-08-11T02:50:19.996830Z",
     "shell.execute_reply": "2021-08-11T02:50:19.997249Z"
    },
    "papermill": {
     "duration": 0.219264,
     "end_time": "2021-08-11T02:50:19.997394",
     "exception": false,
     "start_time": "2021-08-11T02:50:19.778130",
     "status": "completed"
    },
    "tags": []
   },
   "outputs": [
    {
     "data": {
      "text/plain": [
       "<AxesSubplot:>"
      ]
     },
     "execution_count": 13,
     "metadata": {},
     "output_type": "execute_result"
    },
    {
     "data": {
      "image/png": "[encoded data removed]",
      "text/plain": [
       "<Figure size 432x288 with 1 Axes>"
      ]
     },
     "metadata": {
      "needs_background": "light"
     },
     "output_type": "display_data"
    }
   ],
   "source": [
    "test['target'].hist()"
   ]
  }
 ],
 "metadata": {
  "environment": {
   "name": "pytorch-gpu.1-9.m75",
   "type": "gcloud",
   "uri": "gcr.io/deeplearning-platform-release/pytorch-gpu.1-9:m75"
  },
  "kernelspec": {
   "display_name": "Python 3",
   "language": "python",
   "name": "python3"
  },
  "language_info": {
   "codemirror_mode": {
    "name": "ipython",
    "version": 3
   },
   "file_extension": ".py",
   "mimetype": "text/x-python",
   "name": "python",
   "nbconvert_exporter": "python",
   "pygments_lexer": "ipython3",
   "version": "3.7.10"
  },
  "papermill": {
   "default_parameters": {},
   "duration": 898.928326,
   "end_time": "2021-08-11T02:50:23.015551",
   "environment_variables": {},
   "exception": null,
   "input_path": "__notebook__.ipynb",
   "output_path": "__notebook__.ipynb",
   "parameters": {},
   "start_time": "2021-08-11T02:35:24.087225",
   "version": "2.3.3"
  },
  "widgets": {
   "application/vnd.jupyter.widget-state+json": {
    "state": {
     "26ac994425fc4969ad9293e593a60060": {
      "model_module": "@jupyter-widgets/controls",
      "model_module_version": "1.5.0",
      "model_name": "DescriptionStyleModel",
      "state": {
       "_model_module": "@jupyter-widgets/controls",
       "_model_module_version": "1.5.0",
       "_model_name": "DescriptionStyleModel",
       "_view_count": null,
       "_view_module": "@jupyter-widgets/base",
       "_view_module_version": "1.2.0",
       "_view_name": "StyleView",
       "description_width": ""
      }
     },
     "3a523892e9324fa68f7b30f7329d4658": {
      "model_module": "@jupyter-widgets/controls",
      "model_module_version": "1.5.0",
      "model_name": "HBoxModel",
      "state": {
       "_dom_classes": [],
       "_model_module": "@jupyter-widgets/controls",
       "_model_module_version": "1.5.0",
       "_model_name": "HBoxModel",
       "_view_count": null,
       "_view_module": "@jupyter-widgets/controls",
       "_view_module_version": "1.5.0",
       "_view_name": "HBoxView",
       "box_style": "",
       "children": [
        "IPY_MODEL_67b64613e719414b80ce5d9bbe4efa11",
        "IPY_MODEL_b81cb81e1571449997f3568e4c2611c8",
        "IPY_MODEL_572670e984464477947d2658e8d9a9c1"
       ],
       "layout": "IPY_MODEL_567a7adfc87a499f87bfc9816845da1f"
      }
     },
     "47743bddb7164ac3873f14dca99b632c": {
      "model_module": "@jupyter-widgets/controls",
      "model_module_version": "1.5.0",
      "model_name": "ProgressStyleModel",
      "state": {
       "_model_module": "@jupyter-widgets/controls",
       "_model_module_version": "1.5.0",
       "_model_name": "ProgressStyleModel",
       "_view_count": null,
       "_view_module": "@jupyter-widgets/base",
       "_view_module_version": "1.2.0",
       "_view_name": "StyleView",
       "bar_color": null,
       "description_width": ""
      }
     },
     "5598133486224dba8263210fdbd2dcba": {
      "model_module": "@jupyter-widgets/base",
      "model_module_version": "1.2.0",
      "model_name": "LayoutModel",
      "state": {
       "_model_module": "@jupyter-widgets/base",
       "_model_module_version": "1.2.0",
       "_model_name": "LayoutModel",
       "_view_count": null,
       "_view_module": "@jupyter-widgets/base",
       "_view_module_version": "1.2.0",
       "_view_name": "LayoutView",
       "align_content": null,
       "align_items": null,
       "align_self": null,
       "border": null,
       "bottom": null,
       "display": null,
       "flex": null,
       "flex_flow": null,
       "grid_area": null,
       "grid_auto_columns": null,
       "grid_auto_flow": null,
       "grid_auto_rows": null,
       "grid_column": null,
       "grid_gap": null,
       "grid_row": null,
       "grid_template_areas": null,
       "grid_template_columns": null,
       "grid_template_rows": null,
       "height": null,
       "justify_content": null,
       "justify_items": null,
       "left": null,
       "margin": null,
       "max_height": null,
       "max_width": null,
       "min_height": null,
       "min_width": null,
       "object_fit": null,
       "object_position": null,
       "order": null,
       "overflow": null,
       "overflow_x": null,
       "overflow_y": null,
       "padding": null,
       "right": null,
       "top": null,
       "visibility": null,
       "width": null
      }
     },
     "567a7adfc87a499f87bfc9816845da1f": {
      "model_module": "@jupyter-widgets/base",
      "model_module_version": "1.2.0",
      "model_name": "LayoutModel",
      "state": {
       "_model_module": "@jupyter-widgets/base",
       "_model_module_version": "1.2.0",
       "_model_name": "LayoutModel",
       "_view_count": null,
       "_view_module": "@jupyter-widgets/base",
       "_view_module_version": "1.2.0",
       "_view_name": "LayoutView",
       "align_content": null,
       "align_items": null,
       "align_self": null,
       "border": null,
       "bottom": null,
       "display": null,
       "flex": null,
       "flex_flow": null,
       "grid_area": null,
       "grid_auto_columns": null,
       "grid_auto_flow": null,
       "grid_auto_rows": null,
       "grid_column": null,
       "grid_gap": null,
       "grid_row": null,
       "grid_template_areas": null,
       "grid_template_columns": null,
       "grid_template_rows": null,
       "height": null,
       "justify_content": null,
       "justify_items": null,
       "left": null,
       "margin": null,
       "max_height": null,
       "max_width": null,
       "min_height": null,
       "min_width": null,
       "object_fit": null,
       "object_position": null,
       "order": null,
       "overflow": null,
       "overflow_x": null,
       "overflow_y": null,
       "padding": null,
       "right": null,
       "top": null,
       "visibility": null,
       "width": null
      }
     },
     "572670e984464477947d2658e8d9a9c1": {
      "model_module": "@jupyter-widgets/controls",
      "model_module_version": "1.5.0",
      "model_name": "HTMLModel",
      "state": {
       "_dom_classes": [],
       "_model_module": "@jupyter-widgets/controls",
       "_model_module_version": "1.5.0",
       "_model_name": "HTMLModel",
       "_view_count": null,
       "_view_module": "@jupyter-widgets/controls",
       "_view_module_version": "1.5.0",
       "_view_name": "HTMLView",
       "description": "",
       "description_tooltip": null,
       "layout": "IPY_MODEL_5598133486224dba8263210fdbd2dcba",
       "placeholder": "​",
       "style": "IPY_MODEL_26ac994425fc4969ad9293e593a60060",
       "value": " 313/313 [14:34&lt;00:00,  2.32s/it]"
      }
     },
     "5d35480f3c7540dd83ceaae9fe9ebc9d": {
      "model_module": "@jupyter-widgets/controls",
      "model_module_version": "1.5.0",
      "model_name": "DescriptionStyleModel",
      "state": {
       "_model_module": "@jupyter-widgets/controls",
       "_model_module_version": "1.5.0",
       "_model_name": "DescriptionStyleModel",
       "_view_count": null,
       "_view_module": "@jupyter-widgets/base",
       "_view_module_version": "1.2.0",
       "_view_name": "StyleView",
       "description_width": ""
      }
     },
     "67b64613e719414b80ce5d9bbe4efa11": {
      "model_module": "@jupyter-widgets/controls",
      "model_module_version": "1.5.0",
      "model_name": "HTMLModel",
      "state": {
       "_dom_classes": [],
       "_model_module": "@jupyter-widgets/controls",
       "_model_module_version": "1.5.0",
       "_model_name": "HTMLModel",
       "_view_count": null,
       "_view_module": "@jupyter-widgets/controls",
       "_view_module_version": "1.5.0",
       "_view_name": "HTMLView",
       "description": "",
       "description_tooltip": null,
       "layout": "IPY_MODEL_a58ab089ccc64884a6414b9692ee77ec",
       "placeholder": "​",
       "style": "IPY_MODEL_5d35480f3c7540dd83ceaae9fe9ebc9d",
       "value": "100%"
      }
     },
     "a58ab089ccc64884a6414b9692ee77ec": {
      "model_module": "@jupyter-widgets/base",
      "model_module_version": "1.2.0",
      "model_name": "LayoutModel",
      "state": {
       "_model_module": "@jupyter-widgets/base",
       "_model_module_version": "1.2.0",
       "_model_name": "LayoutModel",
       "_view_count": null,
       "_view_module": "@jupyter-widgets/base",
       "_view_module_version": "1.2.0",
       "_view_name": "LayoutView",
       "align_content": null,
       "align_items": null,
       "align_self": null,
       "border": null,
       "bottom": null,
       "display": null,
       "flex": null,
       "flex_flow": null,
       "grid_area": null,
       "grid_auto_columns": null,
       "grid_auto_flow": null,
       "grid_auto_rows": null,
       "grid_column": null,
       "grid_gap": null,
       "grid_row": null,
       "grid_template_areas": null,
       "grid_template_columns": null,
       "grid_template_rows": null,
       "height": null,
       "justify_content": null,
       "justify_items": null,
       "left": null,
       "margin": null,
       "max_height": null,
       "max_width": null,
       "min_height": null,
       "min_width": null,
       "object_fit": null,
       "object_position": null,
       "order": null,
       "overflow": null,
       "overflow_x": null,
       "overflow_y": null,
       "padding": null,
       "right": null,
       "top": null,
       "visibility": null,
       "width": null
      }
     },
     "b81cb81e1571449997f3568e4c2611c8": {
      "model_module": "@jupyter-widgets/controls",
      "model_module_version": "1.5.0",
      "model_name": "FloatProgressModel",
      "state": {
       "_dom_classes": [],
       "_model_module": "@jupyter-widgets/controls",
       "_model_module_version": "1.5.0",
       "_model_name": "FloatProgressModel",
       "_view_count": null,
       "_view_module": "@jupyter-widgets/controls",
       "_view_module_version": "1.5.0",
       "_view_name": "ProgressView",
       "bar_style": "success",
       "description": "",
       "description_tooltip": null,
       "layout": "IPY_MODEL_df9f2d9e452942d09d826910cb35ef1e",
       "max": 313,
       "min": 0,
       "orientation": "horizontal",
       "style": "IPY_MODEL_47743bddb7164ac3873f14dca99b632c",
       "value": 313
      }
     },
     "df9f2d9e452942d09d826910cb35ef1e": {
      "model_module": "@jupyter-widgets/base",
      "model_module_version": "1.2.0",
      "model_name": "LayoutModel",
      "state": {
       "_model_module": "@jupyter-widgets/base",
       "_model_module_version": "1.2.0",
       "_model_name": "LayoutModel",
       "_view_count": null,
       "_view_module": "@jupyter-widgets/base",
       "_view_module_version": "1.2.0",
       "_view_name": "LayoutView",
       "align_content": null,
       "align_items": null,
       "align_self": null,
       "border": null,
       "bottom": null,
       "display": null,
       "flex": null,
       "flex_flow": null,
       "grid_area": null,
       "grid_auto_columns": null,
       "grid_auto_flow": null,
       "grid_auto_rows": null,
       "grid_column": null,
       "grid_gap": null,
       "grid_row": null,
       "grid_template_areas": null,
       "grid_template_columns": null,
       "grid_template_rows": null,
       "height": null,
       "justify_content": null,
       "justify_items": null,
       "left": null,
       "margin": null,
       "max_height": null,
       "max_width": null,
       "min_height": null,
       "min_width": null,
       "object_fit": null,
       "object_position": null,
       "order": null,
       "overflow": null,
       "overflow_x": null,
       "overflow_y": null,
       "padding": null,
       "right": null,
       "top": null,
       "visibility": null,
       "width": null
      }
     }
    },
    "version_major": 2,
    "version_minor": 0
   }
  }
 },
 "nbformat": 4,
 "nbformat_minor": 5
}
